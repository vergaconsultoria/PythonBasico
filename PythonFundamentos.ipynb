{
  "nbformat": 4,
  "nbformat_minor": 0,
  "metadata": {
    "colab": {
      "provenance": [],
      "toc_visible": true,
      "authorship_tag": "ABX9TyOZMH3UAvvJqP9z3IHHyFbq",
      "include_colab_link": true
    },
    "kernelspec": {
      "name": "python3",
      "display_name": "Python 3"
    },
    "language_info": {
      "name": "python"
    }
  },
  "cells": [
    {
      "cell_type": "markdown",
      "metadata": {
        "id": "view-in-github",
        "colab_type": "text"
      },
      "source": [
        "<a href=\"https://colab.research.google.com/github/vergaconsultoria/PythonFundamentos/blob/main/PythonFundamentos.ipynb\" target=\"_parent\"><img src=\"https://colab.research.google.com/assets/colab-badge.svg\" alt=\"Open In Colab\"/></a>"
      ]
    },
    {
      "cell_type": "markdown",
      "source": [],
      "metadata": {
        "id": "CArtpy8yMlWA"
      }
    },
    {
      "cell_type": "markdown",
      "source": [
        "#PRIMEIROS PASSOS NO PYTHON#"
      ],
      "metadata": {
        "id": "ErwmpsKyMnVl"
      }
    },
    {
      "cell_type": "code",
      "source": [
        "print('Olá mundo')\n",
        "print('Estou no Colab')"
      ],
      "metadata": {
        "colab": {
          "base_uri": "https://localhost:8080/"
        },
        "id": "XnQ-ivsdMvcl",
        "outputId": "1a1b82e3-06a9-4a38-de16-3de52ccd510f"
      },
      "execution_count": null,
      "outputs": [
        {
          "output_type": "stream",
          "name": "stdout",
          "text": [
            "Olá mundo\n",
            "Estou no Colab\n"
          ]
        }
      ]
    },
    {
      "cell_type": "markdown",
      "source": [
        "#FUNDAMENTOS#"
      ],
      "metadata": {
        "id": "HIgZ1kZvNH2e"
      }
    },
    {
      "cell_type": "code",
      "source": [
        "# isto é um comentário\n",
        "# isto é outro comentário\n",
        "print('Olá mundo!') # isto é um comentário"
      ],
      "metadata": {
        "colab": {
          "base_uri": "https://localhost:8080/"
        },
        "id": "lRwBzhpYNQ91",
        "outputId": "01b141a9-8a4e-4539-fd53-fdfee3037ddb"
      },
      "execution_count": null,
      "outputs": [
        {
          "output_type": "stream",
          "name": "stdout",
          "text": [
            "Olá mundo!\n"
          ]
        }
      ]
    },
    {
      "cell_type": "code",
      "source": [
        "print('Olá mundo!')\n",
        "print(10)\n",
        "print(20.5)"
      ],
      "metadata": {
        "colab": {
          "base_uri": "https://localhost:8080/"
        },
        "id": "wj4J-cgpOEfE",
        "outputId": "9d638520-f19b-4536-db33-5f0fcfac7268"
      },
      "execution_count": null,
      "outputs": [
        {
          "output_type": "stream",
          "name": "stdout",
          "text": [
            "Olá mundo!\n",
            "10\n",
            "20.5\n"
          ]
        }
      ]
    },
    {
      "cell_type": "code",
      "source": [
        "print('Maça', 20, 30.45)"
      ],
      "metadata": {
        "colab": {
          "base_uri": "https://localhost:8080/"
        },
        "id": "2wGB9-ZKORwd",
        "outputId": "cbe3f6ec-ae54-4256-c9d4-c5e1966068be"
      },
      "execution_count": null,
      "outputs": [
        {
          "output_type": "stream",
          "name": "stdout",
          "text": [
            "Maça 20 30.45\n"
          ]
        }
      ]
    },
    {
      "cell_type": "code",
      "source": [
        "print('Maça', 'Pera', 'Uva', sep=' - ')"
      ],
      "metadata": {
        "colab": {
          "base_uri": "https://localhost:8080/"
        },
        "id": "gVUYX_DyOXuN",
        "outputId": "a688b7fa-fad9-49ed-f690-d0a56bf1a06c"
      },
      "execution_count": null,
      "outputs": [
        {
          "output_type": "stream",
          "name": "stdout",
          "text": [
            "Maça - Pera - Uva\n"
          ]
        }
      ]
    },
    {
      "cell_type": "code",
      "source": [
        "print('Maça', 'Pera', end= ' Fim', sep=' ')"
      ],
      "metadata": {
        "colab": {
          "base_uri": "https://localhost:8080/"
        },
        "id": "7Mrp8L69Opa9",
        "outputId": "f696e932-6830-47ef-b6b5-8ed414451ed8"
      },
      "execution_count": null,
      "outputs": [
        {
          "output_type": "stream",
          "name": "stdout",
          "text": [
            "Maça Pera Fim"
          ]
        }
      ]
    },
    {
      "cell_type": "code",
      "source": [
        "print('Este é um text longo, \\n eu quero quebrar a linha')"
      ],
      "metadata": {
        "colab": {
          "base_uri": "https://localhost:8080/"
        },
        "id": "QcfAiloIPJxJ",
        "outputId": "8b2d4635-5229-4169-d053-020a9d4e5416"
      },
      "execution_count": null,
      "outputs": [
        {
          "output_type": "stream",
          "name": "stdout",
          "text": [
            "Este é um text longo, \n",
            " eu quero quebrar a linha\n"
          ]
        }
      ]
    },
    {
      "cell_type": "code",
      "source": [
        "print('Maça', 'Pera', sep='\\n') #imprimi os textos em linhas diferentes"
      ],
      "metadata": {
        "colab": {
          "base_uri": "https://localhost:8080/"
        },
        "id": "wX3d0Bd9PV8e",
        "outputId": "a6985777-f04c-4bf8-95c3-df06615c0d7d"
      },
      "execution_count": null,
      "outputs": [
        {
          "output_type": "stream",
          "name": "stdout",
          "text": [
            "Maça\n",
            "Pera\n"
          ]
        }
      ]
    },
    {
      "cell_type": "code",
      "source": [
        "print('A pontuação total de %s foi %s pontos' % ('Fernando', '10'))"
      ],
      "metadata": {
        "colab": {
          "base_uri": "https://localhost:8080/"
        },
        "id": "HUQ9jzVoPmXh",
        "outputId": "8cf44656-01f4-4ba3-e51a-3285a2ed5213"
      },
      "execution_count": null,
      "outputs": [
        {
          "output_type": "stream",
          "name": "stdout",
          "text": [
            "A pontuação total de Fernando foi 10 pontos\n"
          ]
        }
      ]
    },
    {
      "cell_type": "code",
      "source": [
        "print('A pontuacao total de {} foi {}'.format('Fernando', '10'))"
      ],
      "metadata": {
        "colab": {
          "base_uri": "https://localhost:8080/"
        },
        "id": "iJl975CyQTjN",
        "outputId": "69a224cb-d547-4753-f6a2-8df78522bd1c"
      },
      "execution_count": null,
      "outputs": [
        {
          "output_type": "stream",
          "name": "stdout",
          "text": [
            "A pontuacao total de Fernando foi 10\n"
          ]
        }
      ]
    },
    {
      "cell_type": "code",
      "source": [],
      "metadata": {
        "id": "zCjKwBg3QeI8"
      },
      "execution_count": null,
      "outputs": []
    }
  ]
}